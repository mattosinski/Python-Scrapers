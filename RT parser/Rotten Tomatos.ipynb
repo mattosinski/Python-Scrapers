{
 "cells": [
  {
   "cell_type": "code",
   "execution_count": 1,
   "metadata": {
    "collapsed": false
   },
   "outputs": [],
   "source": [
    "from bs4 import BeautifulSoup\n",
    "import re\n",
    "import urllib2\n",
    "from operator import itemgetter\n",
    "import time\n",
    "import sys\n",
    "import requests"
   ]
  },
  {
   "cell_type": "code",
   "execution_count": 52,
   "metadata": {
    "collapsed": false
   },
   "outputs": [],
   "source": [
    "def run(url):\n",
    "    pageNum=2 # number of pages to collect \n",
    "    fw=open('reviews.txt','w') # output file\n",
    "    for p in range(1,pageNum+1): # for each page\n",
    "        html=None\n",
    "        if p==1:\n",
    "            pageLink=url # url for page 1\n",
    "        else: pageLink=url+'?page='+str(p)+'&sort=' # make the page url\n",
    "        for i in range(5): # try 5 times\n",
    "            try:\n",
    "                #use the browser to access the url \n",
    "                response=requests.get(pageLink,headers = { 'User-Agent':'Mozilla/5.0 (Windows NT 6.1) AppleWebKit/537.36 (KHTML, like Gecko) Chrome/41.0.2228.0 Safari/537.36', })\n",
    "                html=response.content # get the html break # we got the file, break the loop\n",
    "            except Exception as e:# browser.open() threw an exception, the attempt to get the response failed\n",
    "                print 'failed attempt',i \n",
    "                time.sleep(2) # wait 2 secs\n",
    "            if not html:\n",
    "                continue # couldnt get the page, ignore \n",
    "            soup = BeautifulSoup(html) # parse the html \n",
    "            reviews=soup.findAll('div',{'class':re.compile('review_table_row')}) # get all the review divs\n",
    "            for review in reviews:\n",
    "                test=reviews[10]\n",
    "                critic,text='NA','NA' # initialize critic and text\n",
    "                criticChunk=review.find('a',{'href':re.compile('/critic/')})\n",
    "                if criticChunk:\n",
    "                    critic=criticChunk.text.encode('ascii','ignore')\n",
    "                    textChunk=review.find('div',{'class':'the_review'})\n",
    "                if textChunk:\n",
    "                    text=textChunk.text.encode('ascii','ignore')\n",
    "                fw.write(critic+'\\t'+text+'\\n') # write to file\n",
    "        time.sleep(2) # wait 2 secs\n",
    "    fw.close()\n",
    "    return test"
   ]
  },
  {
   "cell_type": "code",
   "execution_count": 53,
   "metadata": {
    "collapsed": false
   },
   "outputs": [],
   "source": [
    "url='https://www.rottentomatoes.com/m/space_jam/reviews/' \n",
    "test = run(url)"
   ]
  },
  {
   "cell_type": "code",
   "execution_count": 55,
   "metadata": {
    "collapsed": false
   },
   "outputs": [
    {
     "data": {
      "text/plain": [
       "bs4.element.Tag"
      ]
     },
     "execution_count": 55,
     "metadata": {},
     "output_type": "execute_result"
    }
   ],
   "source": [
    "type(test)"
   ]
  },
  {
   "cell_type": "code",
   "execution_count": 72,
   "metadata": {
    "collapsed": false
   },
   "outputs": [],
   "source": [
    "test=\"\""
   ]
  },
  {
   "cell_type": "code",
   "execution_count": 73,
   "metadata": {
    "collapsed": true
   },
   "outputs": [],
   "source": [
    "def getCritic1(review):\n",
    "    try:\n",
    "        critic='NA'\n",
    "        criticChunk=review.find('a',{'href':re.compile('/critic/')})\n",
    "        if criticChunk:\n",
    "            critic=criticChunk.text.encode('ascii','ignore')\n",
    "        return critic\n",
    "    except (RuntimeError, TypeError, NameError):\n",
    "        critic='NA'\n",
    "        return critic"
   ]
  },
  {
   "cell_type": "code",
   "execution_count": 74,
   "metadata": {
    "collapsed": true
   },
   "outputs": [],
   "source": [
    "def getCritic(review):\n",
    "    critic='NA'\n",
    "    criticChunk=review.find('a',{'href':re.compile('/critic/')})\n",
    "    if criticChunk:\n",
    "        critic=criticChunk.text.encode('ascii','ignore')\n",
    "    return critic"
   ]
  },
  {
   "cell_type": "code",
   "execution_count": 77,
   "metadata": {
    "collapsed": false
   },
   "outputs": [
    {
     "name": "stdout",
     "output_type": "stream",
     "text": [
      "NA\n"
     ]
    }
   ],
   "source": [
    "print getCritic1(test)"
   ]
  },
  {
   "cell_type": "code",
   "execution_count": 59,
   "metadata": {
    "collapsed": true
   },
   "outputs": [],
   "source": [
    "def getSource(review):\n",
    "    source='NA'\n",
    "    sourceChunk=review.find('em',{'class':'subtle'})\n",
    "    if sourceChunk:\n",
    "        source=sourceChunk.text.encode('ascii','ignore')\n",
    "    return source\n",
    " "
   ]
  },
  {
   "cell_type": "code",
   "execution_count": 60,
   "metadata": {
    "collapsed": false
   },
   "outputs": [
    {
     "name": "stdout",
     "output_type": "stream",
     "text": [
      "Empire Magazine\n"
     ]
    }
   ],
   "source": [
    "print getSource(test)"
   ]
  },
  {
   "cell_type": "code",
   "execution_count": 61,
   "metadata": {
    "collapsed": false
   },
   "outputs": [],
   "source": [
    "def getRating(review):\n",
    "    rating='NA'\n",
    "    ratingChunk=review.find('div',{'class':'review_icon'})\n",
    "    if ratingChunk:\n",
    "        ratingCheck = str(ratingChunk)\n",
    "\n",
    "        if ratingCheck.find(\"fresh\")>=0:\n",
    "            rating = 'fresh'\n",
    "        if ratingCheck.find(\"rotten\")>=0:\n",
    "            rating = 'rotten'\n",
    "\n",
    "    return rating\n",
    "\n",
    " "
   ]
  },
  {
   "cell_type": "code",
   "execution_count": 62,
   "metadata": {
    "collapsed": false
   },
   "outputs": [
    {
     "data": {
      "text/plain": [
       "'fresh'"
      ]
     },
     "execution_count": 62,
     "metadata": {},
     "output_type": "execute_result"
    }
   ],
   "source": [
    "getRating(test)"
   ]
  },
  {
   "cell_type": "code",
   "execution_count": 63,
   "metadata": {
    "collapsed": true
   },
   "outputs": [],
   "source": [
    "def getDate(review):\n",
    "    date='NA'\n",
    "    dateChunk=review.find('div',{'class':'review_date'})\n",
    "    if dateChunk:\n",
    "        date = dateChunk.text.encode('ascii','ignore')\n",
    "    return date\n"
   ]
  },
  {
   "cell_type": "code",
   "execution_count": 64,
   "metadata": {
    "collapsed": false
   },
   "outputs": [
    {
     "data": {
      "text/plain": [
       "' January 1, 2000'"
      ]
     },
     "execution_count": 64,
     "metadata": {},
     "output_type": "execute_result"
    }
   ],
   "source": [
    "getDate(test)"
   ]
  },
  {
   "cell_type": "code",
   "execution_count": 65,
   "metadata": {
    "collapsed": true
   },
   "outputs": [],
   "source": [
    "def getTextLen(review): \n",
    "    textLen='NA'\n",
    "    textChunk = review.find('div',{'class':'the_review'})\n",
    "    if textChunk:\n",
    "        textCheck=textChunk.text.encode('ascii','ignore')\n",
    "        #textCheck = str(textChunk)\n",
    "        c=0\n",
    "        for characters in textCheck:\n",
    "            c +=1\n",
    "        textLen = c\n",
    "    return textLen\n"
   ]
  },
  {
   "cell_type": "code",
   "execution_count": 66,
   "metadata": {
    "collapsed": false
   },
   "outputs": [
    {
     "data": {
      "text/plain": [
       "78"
      ]
     },
     "execution_count": 66,
     "metadata": {},
     "output_type": "execute_result"
    }
   ],
   "source": [
    "getTextLen(test)"
   ]
  },
  {
   "cell_type": "code",
   "execution_count": null,
   "metadata": {
    "collapsed": true
   },
   "outputs": [],
   "source": []
  }
 ],
 "metadata": {
  "kernelspec": {
   "display_name": "Python 2",
   "language": "python",
   "name": "python2"
  },
  "language_info": {
   "codemirror_mode": {
    "name": "ipython",
    "version": 2
   },
   "file_extension": ".py",
   "mimetype": "text/x-python",
   "name": "python",
   "nbconvert_exporter": "python",
   "pygments_lexer": "ipython2",
   "version": "2.7.12"
  }
 },
 "nbformat": 4,
 "nbformat_minor": 0
}
